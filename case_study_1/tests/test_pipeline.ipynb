{
 "cells": [
  {
   "cell_type": "code",
   "execution_count": 9,
   "id": "6789ff1f-e907-4b6e-a1bc-737de849b2af",
   "metadata": {},
   "outputs": [
    {
     "name": "stdout",
     "output_type": "stream",
     "text": [
      "All tests passed!\n"
     ]
    }
   ],
   "source": [
    "import sys\n",
    "import os\n",
    "sys.path.append(os.path.abspath('../'))  # Adjust path based on your notebook's location\n",
    "\n",
    "import pandas as pd\n",
    "import json\n",
    "from claim_resubmission_pipeline import load_alpha_data, load_beta_data, get_eligible_claims, is_retryable\n",
    "\n",
    "def test_load_alpha_data():\n",
    "    csv_str = \"claim_id,patient_id,procedure_code,denial_reason,submitted_at,status\\nA123,P001,99213,Missing modifier,2025-07-01,denied\"\n",
    "    df = load_alpha_data(csv_str)\n",
    "    assert not df.empty\n",
    "    assert df['source_system'].iloc[0] == 'alpha'\n",
    "\n",
    "def test_load_beta_data():\n",
    "    json_str = '[{\"id\": \"B987\", \"member\": \"P010\", \"code\": \"99213\", \"error_msg\": \"Incorrect provider type\", \"date\": \"2025-07-03T00:00:00\", \"status\": \"denied\"}]'\n",
    "    df = load_beta_data(json_str)\n",
    "    assert not df.empty\n",
    "    assert df['source_system'].iloc[0] == 'beta'\n",
    "\n",
    "def test_is_retryable():\n",
    "    assert is_retryable(\"Missing modifier\") == True\n",
    "    assert is_retryable(\"Authorization expired\") == False\n",
    "    assert is_retryable(\"incorrect procedure\") == True\n",
    "\n",
    "def test_get_eligible_claims():\n",
    "    data = {\"claim_id\": [\"A123\"], \"patient_id\": [\"P001\"], \"procedure_code\": [\"99213\"], \"denial_reason\": [\"Missing modifier\"], \"submitted_at\": [\"2025-07-01\"], \"status\": [\"denied\"], \"source_system\": [\"alpha\"]}\n",
    "    df = pd.DataFrame(data)\n",
    "    today = pd.to_datetime(\"2025-07-30\")\n",
    "    eligible = get_eligible_claims(df, today)\n",
    "    assert not eligible.empty\n",
    "\n",
    "# Run tests\n",
    "test_load_alpha_data()\n",
    "test_load_beta_data()\n",
    "test_is_retryable()\n",
    "test_get_eligible_claims()\n",
    "print(\"All tests passed!\")"
   ]
  },
  {
   "cell_type": "code",
   "execution_count": null,
   "id": "3d04f212-bf52-43cf-a0d0-37241a79501c",
   "metadata": {},
   "outputs": [],
   "source": []
  },
  {
   "cell_type": "code",
   "execution_count": null,
   "id": "889e3923-fd77-473c-a178-a2ac9ae580fe",
   "metadata": {},
   "outputs": [],
   "source": []
  },
  {
   "cell_type": "code",
   "execution_count": null,
   "id": "9f6fd57b-2c94-4749-9ced-ecb58d7110e8",
   "metadata": {},
   "outputs": [],
   "source": []
  },
  {
   "cell_type": "code",
   "execution_count": null,
   "id": "257455d6-9eec-4b31-b5ff-75e2d842297a",
   "metadata": {},
   "outputs": [],
   "source": []
  }
 ],
 "metadata": {
  "kernelspec": {
   "display_name": "Python 3 (ipykernel)",
   "language": "python",
   "name": "python3"
  },
  "language_info": {
   "codemirror_mode": {
    "name": "ipython",
    "version": 3
   },
   "file_extension": ".py",
   "mimetype": "text/x-python",
   "name": "python",
   "nbconvert_exporter": "python",
   "pygments_lexer": "ipython3",
   "version": "3.12.7"
  }
 },
 "nbformat": 4,
 "nbformat_minor": 5
}
