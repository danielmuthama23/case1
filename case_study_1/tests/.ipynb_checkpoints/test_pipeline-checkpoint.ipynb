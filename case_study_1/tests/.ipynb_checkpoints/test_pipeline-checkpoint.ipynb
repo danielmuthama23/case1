{
 "cells": [
  {
   "cell_type": "code",
   "execution_count": null,
   "id": "6789ff1f-e907-4b6e-a1bc-737de849b2af",
   "metadata": {},
   "outputs": [],
   "source": [
    "import pandas as pd\n",
    "import json\n",
    "from claim_resubmission_pipeline import load_alpha_data, load_beta_data, get_eligible_claims, is_retryable\n",
    "\n",
    "def test_load_alpha_data():\n",
    "    csv_str = \"claim_id,patient_id,procedure_code,denial_reason,submitted_at,status\\nA123,P001,99213,Missing modifier,2025-07-01,denied\"\n",
    "    df = load_alpha_data(csv_str)\n",
    "    assert not df.empty\n",
    "    assert df['source_system'].iloc[0] == 'alpha'\n",
    "\n",
    "def test_load_beta_data():\n",
    "    json_str = '[{\"id\": \"B987\", \"member\": \"P010\", \"code\": \"99213\", \"error_msg\": \"Incorrect provider type\", \"date\": \"2025-07-03T00:00:00\", \"status\": \"denied\"}]'\n",
    "    df = load_beta_data(json_str)\n",
    "    assert not df.empty\n",
    "    assert df['source_system'].iloc[0] == 'beta'\n",
    "\n",
    "def test_is_retryable():\n",
    "    retryable_reasons = {\"Missing modifier\", \"Incorrect NPI\", \"Prior auth required\"}\n",
    "    non_retryable = {\"Authorization expired\", \"Incorrect provider type\"}\n",
    "    assert is_retryable(\"Missing modifier\", retryable_reasons, non_retryable) == True\n",
    "    assert is_retryable(\"Authorization expired\", retryable_reasons, non_retryable) == False\n",
    "    assert is_retryable(\"incorrect procedure\", retryable_reasons, non_retryable) == True\n",
    "\n",
    "def test_get_eligible_claims():\n",
    "    data = {\"claim_id\": [\"A123\"], \"patient_id\": [\"P001\"], \"procedure_code\": [\"99213\"], \"denial_reason\": [\"Missing modifier\"], \"submitted_at\": [\"2025-07-01\"], \"status\": [\"denied\"], \"source_system\": [\"alpha\"]}\n",
    "    df = pd.DataFrame(data)\n",
    "    today = pd.to_datetime(\"2025-07-30\")\n",
    "    eligible = get_eligible_claims(df, today)\n",
    "    assert not eligible.empty"
   ]
  }
 ],
 "metadata": {
  "kernelspec": {
   "display_name": "Python 3 (ipykernel)",
   "language": "python",
   "name": "python3"
  },
  "language_info": {
   "codemirror_mode": {
    "name": "ipython",
    "version": 3
   },
   "file_extension": ".py",
   "mimetype": "text/x-python",
   "name": "python",
   "nbconvert_exporter": "python",
   "pygments_lexer": "ipython3",
   "version": "3.12.7"
  }
 },
 "nbformat": 4,
 "nbformat_minor": 5
}
